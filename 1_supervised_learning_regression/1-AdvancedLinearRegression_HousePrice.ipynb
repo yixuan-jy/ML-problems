{
  "cells": [
    {
      "cell_type": "markdown",
      "metadata": {
        "id": "I6U1ze12FTQ6"
      },
      "source": [
        "<a target=\"_blank\" href=\"https://colab.research.google.com/github/lm2612/Tutorials/blob/main/1_supervised_learning_regression/1-AdvancedLinearRegression_HousePrice.ipynb\">\n",
        "  <img src=\"https://colab.research.google.com/assets/colab-badge.svg\" alt=\"Open In Colab\"/>\n",
        "</a>"
      ]
    },
    {
      "cell_type": "markdown",
      "metadata": {
        "id": "jliCjmQGFTQ7"
      },
      "source": [
        "# House price prediction: Advanced, code your own\n"
      ]
    },
    {
      "cell_type": "markdown",
      "metadata": {
        "id": "pCfLfSrvFTQ7"
      },
      "source": [
        "In this exercise, we are going to code up our own linear regression model using 1.) least squares and 2.) gradient descent. We will apply to house price prediction using a subset of the [California house price dataset](https://www.kaggle.com/camnugent/california-housing-prices). Our dataset contains 200 observations for housing blocks in California obtained from the 1990 census. The dataset contains columns:\n",
        "\n",
        "1. `longitude`: A measure of how far west a house is; a higher value is farther west\n",
        "\n",
        "2. `latitude`: A measure of how far north a house is; a higher value is farther north\n",
        "\n",
        "3. `housing_median_age`: Median age of a house within a block; a lower number is a newer building\n",
        "\n",
        "4. `total_rooms`: Total number of rooms within a block\n",
        "\n",
        "5. `total_bedrooms`: Total number of bedrooms within a block\n",
        "\n",
        "6. `population`: Total number of people residing within a block\n",
        "\n",
        "7. `households`: Total number of households, a group of people residing within a home unit, for a block\n",
        "\n",
        "8. `median_income`: Median income for households within a block of houses (measured in tens of thousands of US Dollars)\n",
        "\n",
        "9. `median_house_value`: Median house value for households within a block (measured in US Dollars)\n",
        "\n",
        "10. `ocean_proximity`: Location of the house w.r.t ocean/sea\n",
        "\n",
        "In this example, we are going to create a regression model to predict `median_house_value` using only `median_income`."
      ]
    },
    {
      "cell_type": "markdown",
      "metadata": {
        "id": "r8JXycOrFTQ8"
      },
      "source": [
        "Load the  file `housing_short.csv` in the github repo."
      ]
    },
    {
      "cell_type": "code",
      "execution_count": 1,
      "metadata": {
        "id": "p9TozvaAFTQ8"
      },
      "outputs": [],
      "source": [
        "import sys\n",
        "import pandas as pd\n",
        "import numpy as np\n",
        "import matplotlib.pyplot as plt"
      ]
    },
    {
      "cell_type": "code",
      "execution_count": 2,
      "metadata": {
        "colab": {
          "base_uri": "https://localhost:8080/"
        },
        "id": "kqkhjtMFFTQ8",
        "outputId": "abbc320b-3376-40c4-c971-197153093c35"
      },
      "outputs": [
        {
          "output_type": "stream",
          "name": "stdout",
          "text": [
            "Notebook running in google colab. Using raw github filepath = https://raw.githubusercontent.com/lm2612/Tutorials/refs/heads/main/1_supervised_learning_regression/housing_short.csv\n"
          ]
        }
      ],
      "source": [
        "IN_COLAB = 'google.colab' in sys.modules\n",
        "if IN_COLAB:\n",
        "    filepath = \"https://raw.githubusercontent.com/lm2612/Tutorials/refs/heads/main/1_supervised_learning_regression/housing_short.csv\"\n",
        "    print(f\"Notebook running in google colab. Using raw github filepath = {filepath}\")\n",
        "\n",
        "else:\n",
        "    filepath = \"./housing_short.csv\"\n",
        "    print(f\"Notebook running locally. Using local filepath = {filepath}\")\n"
      ]
    },
    {
      "cell_type": "code",
      "execution_count": 3,
      "metadata": {
        "colab": {
          "base_uri": "https://localhost:8080/",
          "height": 206
        },
        "id": "SZ0u3_g9FTQ9",
        "outputId": "b9c089fe-8757-48e6-9295-f7bcad1972a8"
      },
      "outputs": [
        {
          "output_type": "execute_result",
          "data": {
            "text/plain": [
              "   longitude  latitude  housing_median_age  total_rooms  total_bedrooms  \\\n",
              "0    -122.23     37.88                  41          880             129   \n",
              "1    -122.22     37.86                  21         7099            1106   \n",
              "2    -122.24     37.85                  52         1467             190   \n",
              "3    -122.25     37.85                  52         1274             235   \n",
              "4    -122.25     37.85                  52         1627             280   \n",
              "\n",
              "   population  households  median_income  median_house_value ocean_proximity  \n",
              "0         322         126         8.3252              452600        NEAR BAY  \n",
              "1        2401        1138         8.3014              358500        NEAR BAY  \n",
              "2         496         177         7.2574              352100        NEAR BAY  \n",
              "3         558         219         5.6431              341300        NEAR BAY  \n",
              "4         565         259         3.8462              342200        NEAR BAY  "
            ],
            "text/html": [
              "\n",
              "  <div id=\"df-88e08345-2028-46c7-859b-9af464f90fd5\" class=\"colab-df-container\">\n",
              "    <div>\n",
              "<style scoped>\n",
              "    .dataframe tbody tr th:only-of-type {\n",
              "        vertical-align: middle;\n",
              "    }\n",
              "\n",
              "    .dataframe tbody tr th {\n",
              "        vertical-align: top;\n",
              "    }\n",
              "\n",
              "    .dataframe thead th {\n",
              "        text-align: right;\n",
              "    }\n",
              "</style>\n",
              "<table border=\"1\" class=\"dataframe\">\n",
              "  <thead>\n",
              "    <tr style=\"text-align: right;\">\n",
              "      <th></th>\n",
              "      <th>longitude</th>\n",
              "      <th>latitude</th>\n",
              "      <th>housing_median_age</th>\n",
              "      <th>total_rooms</th>\n",
              "      <th>total_bedrooms</th>\n",
              "      <th>population</th>\n",
              "      <th>households</th>\n",
              "      <th>median_income</th>\n",
              "      <th>median_house_value</th>\n",
              "      <th>ocean_proximity</th>\n",
              "    </tr>\n",
              "  </thead>\n",
              "  <tbody>\n",
              "    <tr>\n",
              "      <th>0</th>\n",
              "      <td>-122.23</td>\n",
              "      <td>37.88</td>\n",
              "      <td>41</td>\n",
              "      <td>880</td>\n",
              "      <td>129</td>\n",
              "      <td>322</td>\n",
              "      <td>126</td>\n",
              "      <td>8.3252</td>\n",
              "      <td>452600</td>\n",
              "      <td>NEAR BAY</td>\n",
              "    </tr>\n",
              "    <tr>\n",
              "      <th>1</th>\n",
              "      <td>-122.22</td>\n",
              "      <td>37.86</td>\n",
              "      <td>21</td>\n",
              "      <td>7099</td>\n",
              "      <td>1106</td>\n",
              "      <td>2401</td>\n",
              "      <td>1138</td>\n",
              "      <td>8.3014</td>\n",
              "      <td>358500</td>\n",
              "      <td>NEAR BAY</td>\n",
              "    </tr>\n",
              "    <tr>\n",
              "      <th>2</th>\n",
              "      <td>-122.24</td>\n",
              "      <td>37.85</td>\n",
              "      <td>52</td>\n",
              "      <td>1467</td>\n",
              "      <td>190</td>\n",
              "      <td>496</td>\n",
              "      <td>177</td>\n",
              "      <td>7.2574</td>\n",
              "      <td>352100</td>\n",
              "      <td>NEAR BAY</td>\n",
              "    </tr>\n",
              "    <tr>\n",
              "      <th>3</th>\n",
              "      <td>-122.25</td>\n",
              "      <td>37.85</td>\n",
              "      <td>52</td>\n",
              "      <td>1274</td>\n",
              "      <td>235</td>\n",
              "      <td>558</td>\n",
              "      <td>219</td>\n",
              "      <td>5.6431</td>\n",
              "      <td>341300</td>\n",
              "      <td>NEAR BAY</td>\n",
              "    </tr>\n",
              "    <tr>\n",
              "      <th>4</th>\n",
              "      <td>-122.25</td>\n",
              "      <td>37.85</td>\n",
              "      <td>52</td>\n",
              "      <td>1627</td>\n",
              "      <td>280</td>\n",
              "      <td>565</td>\n",
              "      <td>259</td>\n",
              "      <td>3.8462</td>\n",
              "      <td>342200</td>\n",
              "      <td>NEAR BAY</td>\n",
              "    </tr>\n",
              "  </tbody>\n",
              "</table>\n",
              "</div>\n",
              "    <div class=\"colab-df-buttons\">\n",
              "\n",
              "  <div class=\"colab-df-container\">\n",
              "    <button class=\"colab-df-convert\" onclick=\"convertToInteractive('df-88e08345-2028-46c7-859b-9af464f90fd5')\"\n",
              "            title=\"Convert this dataframe to an interactive table.\"\n",
              "            style=\"display:none;\">\n",
              "\n",
              "  <svg xmlns=\"http://www.w3.org/2000/svg\" height=\"24px\" viewBox=\"0 -960 960 960\">\n",
              "    <path d=\"M120-120v-720h720v720H120Zm60-500h600v-160H180v160Zm220 220h160v-160H400v160Zm0 220h160v-160H400v160ZM180-400h160v-160H180v160Zm440 0h160v-160H620v160ZM180-180h160v-160H180v160Zm440 0h160v-160H620v160Z\"/>\n",
              "  </svg>\n",
              "    </button>\n",
              "\n",
              "  <style>\n",
              "    .colab-df-container {\n",
              "      display:flex;\n",
              "      gap: 12px;\n",
              "    }\n",
              "\n",
              "    .colab-df-convert {\n",
              "      background-color: #E8F0FE;\n",
              "      border: none;\n",
              "      border-radius: 50%;\n",
              "      cursor: pointer;\n",
              "      display: none;\n",
              "      fill: #1967D2;\n",
              "      height: 32px;\n",
              "      padding: 0 0 0 0;\n",
              "      width: 32px;\n",
              "    }\n",
              "\n",
              "    .colab-df-convert:hover {\n",
              "      background-color: #E2EBFA;\n",
              "      box-shadow: 0px 1px 2px rgba(60, 64, 67, 0.3), 0px 1px 3px 1px rgba(60, 64, 67, 0.15);\n",
              "      fill: #174EA6;\n",
              "    }\n",
              "\n",
              "    .colab-df-buttons div {\n",
              "      margin-bottom: 4px;\n",
              "    }\n",
              "\n",
              "    [theme=dark] .colab-df-convert {\n",
              "      background-color: #3B4455;\n",
              "      fill: #D2E3FC;\n",
              "    }\n",
              "\n",
              "    [theme=dark] .colab-df-convert:hover {\n",
              "      background-color: #434B5C;\n",
              "      box-shadow: 0px 1px 3px 1px rgba(0, 0, 0, 0.15);\n",
              "      filter: drop-shadow(0px 1px 2px rgba(0, 0, 0, 0.3));\n",
              "      fill: #FFFFFF;\n",
              "    }\n",
              "  </style>\n",
              "\n",
              "    <script>\n",
              "      const buttonEl =\n",
              "        document.querySelector('#df-88e08345-2028-46c7-859b-9af464f90fd5 button.colab-df-convert');\n",
              "      buttonEl.style.display =\n",
              "        google.colab.kernel.accessAllowed ? 'block' : 'none';\n",
              "\n",
              "      async function convertToInteractive(key) {\n",
              "        const element = document.querySelector('#df-88e08345-2028-46c7-859b-9af464f90fd5');\n",
              "        const dataTable =\n",
              "          await google.colab.kernel.invokeFunction('convertToInteractive',\n",
              "                                                    [key], {});\n",
              "        if (!dataTable) return;\n",
              "\n",
              "        const docLinkHtml = 'Like what you see? Visit the ' +\n",
              "          '<a target=\"_blank\" href=https://colab.research.google.com/notebooks/data_table.ipynb>data table notebook</a>'\n",
              "          + ' to learn more about interactive tables.';\n",
              "        element.innerHTML = '';\n",
              "        dataTable['output_type'] = 'display_data';\n",
              "        await google.colab.output.renderOutput(dataTable, element);\n",
              "        const docLink = document.createElement('div');\n",
              "        docLink.innerHTML = docLinkHtml;\n",
              "        element.appendChild(docLink);\n",
              "      }\n",
              "    </script>\n",
              "  </div>\n",
              "\n",
              "\n",
              "<div id=\"df-acc72d67-6aae-40a3-80b0-d0cb90bdea95\">\n",
              "  <button class=\"colab-df-quickchart\" onclick=\"quickchart('df-acc72d67-6aae-40a3-80b0-d0cb90bdea95')\"\n",
              "            title=\"Suggest charts\"\n",
              "            style=\"display:none;\">\n",
              "\n",
              "<svg xmlns=\"http://www.w3.org/2000/svg\" height=\"24px\"viewBox=\"0 0 24 24\"\n",
              "     width=\"24px\">\n",
              "    <g>\n",
              "        <path d=\"M19 3H5c-1.1 0-2 .9-2 2v14c0 1.1.9 2 2 2h14c1.1 0 2-.9 2-2V5c0-1.1-.9-2-2-2zM9 17H7v-7h2v7zm4 0h-2V7h2v10zm4 0h-2v-4h2v4z\"/>\n",
              "    </g>\n",
              "</svg>\n",
              "  </button>\n",
              "\n",
              "<style>\n",
              "  .colab-df-quickchart {\n",
              "      --bg-color: #E8F0FE;\n",
              "      --fill-color: #1967D2;\n",
              "      --hover-bg-color: #E2EBFA;\n",
              "      --hover-fill-color: #174EA6;\n",
              "      --disabled-fill-color: #AAA;\n",
              "      --disabled-bg-color: #DDD;\n",
              "  }\n",
              "\n",
              "  [theme=dark] .colab-df-quickchart {\n",
              "      --bg-color: #3B4455;\n",
              "      --fill-color: #D2E3FC;\n",
              "      --hover-bg-color: #434B5C;\n",
              "      --hover-fill-color: #FFFFFF;\n",
              "      --disabled-bg-color: #3B4455;\n",
              "      --disabled-fill-color: #666;\n",
              "  }\n",
              "\n",
              "  .colab-df-quickchart {\n",
              "    background-color: var(--bg-color);\n",
              "    border: none;\n",
              "    border-radius: 50%;\n",
              "    cursor: pointer;\n",
              "    display: none;\n",
              "    fill: var(--fill-color);\n",
              "    height: 32px;\n",
              "    padding: 0;\n",
              "    width: 32px;\n",
              "  }\n",
              "\n",
              "  .colab-df-quickchart:hover {\n",
              "    background-color: var(--hover-bg-color);\n",
              "    box-shadow: 0 1px 2px rgba(60, 64, 67, 0.3), 0 1px 3px 1px rgba(60, 64, 67, 0.15);\n",
              "    fill: var(--button-hover-fill-color);\n",
              "  }\n",
              "\n",
              "  .colab-df-quickchart-complete:disabled,\n",
              "  .colab-df-quickchart-complete:disabled:hover {\n",
              "    background-color: var(--disabled-bg-color);\n",
              "    fill: var(--disabled-fill-color);\n",
              "    box-shadow: none;\n",
              "  }\n",
              "\n",
              "  .colab-df-spinner {\n",
              "    border: 2px solid var(--fill-color);\n",
              "    border-color: transparent;\n",
              "    border-bottom-color: var(--fill-color);\n",
              "    animation:\n",
              "      spin 1s steps(1) infinite;\n",
              "  }\n",
              "\n",
              "  @keyframes spin {\n",
              "    0% {\n",
              "      border-color: transparent;\n",
              "      border-bottom-color: var(--fill-color);\n",
              "      border-left-color: var(--fill-color);\n",
              "    }\n",
              "    20% {\n",
              "      border-color: transparent;\n",
              "      border-left-color: var(--fill-color);\n",
              "      border-top-color: var(--fill-color);\n",
              "    }\n",
              "    30% {\n",
              "      border-color: transparent;\n",
              "      border-left-color: var(--fill-color);\n",
              "      border-top-color: var(--fill-color);\n",
              "      border-right-color: var(--fill-color);\n",
              "    }\n",
              "    40% {\n",
              "      border-color: transparent;\n",
              "      border-right-color: var(--fill-color);\n",
              "      border-top-color: var(--fill-color);\n",
              "    }\n",
              "    60% {\n",
              "      border-color: transparent;\n",
              "      border-right-color: var(--fill-color);\n",
              "    }\n",
              "    80% {\n",
              "      border-color: transparent;\n",
              "      border-right-color: var(--fill-color);\n",
              "      border-bottom-color: var(--fill-color);\n",
              "    }\n",
              "    90% {\n",
              "      border-color: transparent;\n",
              "      border-bottom-color: var(--fill-color);\n",
              "    }\n",
              "  }\n",
              "</style>\n",
              "\n",
              "  <script>\n",
              "    async function quickchart(key) {\n",
              "      const quickchartButtonEl =\n",
              "        document.querySelector('#' + key + ' button');\n",
              "      quickchartButtonEl.disabled = true;  // To prevent multiple clicks.\n",
              "      quickchartButtonEl.classList.add('colab-df-spinner');\n",
              "      try {\n",
              "        const charts = await google.colab.kernel.invokeFunction(\n",
              "            'suggestCharts', [key], {});\n",
              "      } catch (error) {\n",
              "        console.error('Error during call to suggestCharts:', error);\n",
              "      }\n",
              "      quickchartButtonEl.classList.remove('colab-df-spinner');\n",
              "      quickchartButtonEl.classList.add('colab-df-quickchart-complete');\n",
              "    }\n",
              "    (() => {\n",
              "      let quickchartButtonEl =\n",
              "        document.querySelector('#df-acc72d67-6aae-40a3-80b0-d0cb90bdea95 button');\n",
              "      quickchartButtonEl.style.display =\n",
              "        google.colab.kernel.accessAllowed ? 'block' : 'none';\n",
              "    })();\n",
              "  </script>\n",
              "</div>\n",
              "\n",
              "    </div>\n",
              "  </div>\n"
            ],
            "application/vnd.google.colaboratory.intrinsic+json": {
              "type": "dataframe",
              "variable_name": "df",
              "summary": "{\n  \"name\": \"df\",\n  \"rows\": 200,\n  \"fields\": [\n    {\n      \"column\": \"longitude\",\n      \"properties\": {\n        \"dtype\": \"number\",\n        \"std\": 0.02591244438236933,\n        \"min\": -122.3,\n        \"max\": -122.18,\n        \"num_unique_values\": 13,\n        \"samples\": [\n          -122.19,\n          -122.21,\n          -122.23\n        ],\n        \"semantic_type\": \"\",\n        \"description\": \"\"\n      }\n    },\n    {\n      \"column\": \"latitude\",\n      \"properties\": {\n        \"dtype\": \"number\",\n        \"std\": 0.0197745458434983,\n        \"min\": 37.77,\n        \"max\": 37.88,\n        \"num_unique_values\": 11,\n        \"samples\": [\n          37.82,\n          37.88,\n          37.77\n        ],\n        \"semantic_type\": \"\",\n        \"description\": \"\"\n      }\n    },\n    {\n      \"column\": \"housing_median_age\",\n      \"properties\": {\n        \"dtype\": \"number\",\n        \"std\": 10,\n        \"min\": 2,\n        \"max\": 52,\n        \"num_unique_values\": 36,\n        \"samples\": [\n          45,\n          20,\n          22\n        ],\n        \"semantic_type\": \"\",\n        \"description\": \"\"\n      }\n    },\n    {\n      \"column\": \"total_rooms\",\n      \"properties\": {\n        \"dtype\": \"number\",\n        \"std\": 1257,\n        \"min\": 12,\n        \"max\": 7099,\n        \"num_unique_values\": 199,\n        \"samples\": [\n          340,\n          1120,\n          2376\n        ],\n        \"semantic_type\": \"\",\n        \"description\": \"\"\n      }\n    },\n    {\n      \"column\": \"total_bedrooms\",\n      \"properties\": {\n        \"dtype\": \"number\",\n        \"std\": 342,\n        \"min\": 4,\n        \"max\": 2477,\n        \"num_unique_values\": 175,\n        \"samples\": [\n          228,\n          502,\n          1196\n        ],\n        \"semantic_type\": \"\",\n        \"description\": \"\"\n      }\n    },\n    {\n      \"column\": \"population\",\n      \"properties\": {\n        \"dtype\": \"number\",\n        \"std\": 583,\n        \"min\": 18,\n        \"max\": 4367,\n        \"num_unique_values\": 187,\n        \"samples\": [\n          415,\n          609,\n          622\n        ],\n        \"semantic_type\": \"\",\n        \"description\": \"\"\n      }\n    },\n    {\n      \"column\": \"households\",\n      \"properties\": {\n        \"dtype\": \"number\",\n        \"std\": 321,\n        \"min\": 7,\n        \"max\": 2323,\n        \"num_unique_values\": 175,\n        \"samples\": [\n          554,\n          747,\n          291\n        ],\n        \"semantic_type\": \"\",\n        \"description\": \"\"\n      }\n    },\n    {\n      \"column\": \"median_income\",\n      \"properties\": {\n        \"dtype\": \"number\",\n        \"std\": 2.075578180909863,\n        \"min\": 0.4999,\n        \"max\": 11.6017,\n        \"num_unique_values\": 197,\n        \"samples\": [\n          6.7851,\n          3.1429,\n          2.775\n        ],\n        \"semantic_type\": \"\",\n        \"description\": \"\"\n      }\n    },\n    {\n      \"column\": \"median_house_value\",\n      \"properties\": {\n        \"dtype\": \"number\",\n        \"std\": 98310,\n        \"min\": 60000,\n        \"max\": 483300,\n        \"num_unique_values\": 174,\n        \"samples\": [\n          182700,\n          269900,\n          347600\n        ],\n        \"semantic_type\": \"\",\n        \"description\": \"\"\n      }\n    },\n    {\n      \"column\": \"ocean_proximity\",\n      \"properties\": {\n        \"dtype\": \"category\",\n        \"num_unique_values\": 1,\n        \"samples\": [\n          \"NEAR BAY\"\n        ],\n        \"semantic_type\": \"\",\n        \"description\": \"\"\n      }\n    }\n  ]\n}"
            }
          },
          "metadata": {},
          "execution_count": 3
        }
      ],
      "source": [
        "df = pd.read_csv(filepath)\n",
        "df.head()"
      ]
    },
    {
      "cell_type": "markdown",
      "metadata": {
        "id": "Ab7FdNVDFTQ9"
      },
      "source": [
        "Our goal is to predict `median_house_value`. This will be our independent variable, $y$. Pick another variable that you think will be a useful predictor of house value, that we will use as our dependent variable, $x$. First, we should check if these variables appear correlated by plotting them."
      ]
    },
    {
      "cell_type": "code",
      "execution_count": 67,
      "metadata": {
        "id": "6mBWP65AFTQ9"
      },
      "outputs": [],
      "source": [
        "y = df['median_house_value'].values\n",
        "x = df['median_income'].values"
      ]
    },
    {
      "cell_type": "markdown",
      "metadata": {
        "id": "Z0T6UIJFFTQ9"
      },
      "source": [
        "Does your choice of variable seem suitable for linear regression?"
      ]
    },
    {
      "cell_type": "markdown",
      "metadata": {
        "id": "u8HDBhcbFTQ9"
      },
      "source": [
        "## Linear regression\n",
        "Split the dataset into a suitable training, validation and test set."
      ]
    },
    {
      "cell_type": "code",
      "execution_count": 70,
      "metadata": {
        "id": "oV6XIh12FTQ9"
      },
      "outputs": [],
      "source": [
        "val_y = []\n",
        "val_x = []\n",
        "\n",
        "test_y = []\n",
        "test_x = []\n",
        "\n",
        "train_y = []\n",
        "train_x = []\n",
        "\n",
        "for i in range(len(y)):\n",
        "  if i % 5 == 0:\n",
        "    val_y.append(y[i])\n",
        "    val_x.append(x[i])\n",
        "  elif i % 5 == 1:\n",
        "    test_y.append(y[i])\n",
        "    test_x.append(x[i])\n",
        "  else:\n",
        "    train_y.append(y[i])\n",
        "    train_x.append(x[i])\n",
        "\n",
        "y = [train_y, val_y, test_y]\n",
        "x = [train_x, val_x, test_x]"
      ]
    },
    {
      "cell_type": "markdown",
      "metadata": {
        "id": "xYpahLbRFTQ-"
      },
      "source": [
        "Create a linear regression model to predict median house value from median income using the training set. This is the advanced tutorial, so we will be building our linear regression from scratch!"
      ]
    },
    {
      "cell_type": "markdown",
      "metadata": {
        "id": "derNhG8jFTQ-"
      },
      "source": [
        "## From scratch\n",
        "In this notebook, we will code up linear regression using\n",
        "1. Least squares\n",
        "2. Gradient descent\n",
        "3. Stochastic gradient descent.\n",
        "\n",
        "We will also compare these to the sklearn and pytorch implementations."
      ]
    },
    {
      "cell_type": "markdown",
      "metadata": {
        "id": "EXkiPzISFTQ-"
      },
      "source": [
        "### Preprocessing and setup\n",
        "Get $(X,y)$ arrays and normalise them."
      ]
    },
    {
      "cell_type": "code",
      "execution_count": 72,
      "metadata": {
        "id": "qtJsWjx1FTQ-"
      },
      "outputs": [],
      "source": [
        "for i in range(3):\n",
        "    x[i] = np.array(x[i]).reshape(-1, 1)      # This reshapes the array so the inputs are the correct size (N, 1)\n",
        "    y[i] = np.array(y[i]).reshape(-1, 1)"
      ]
    },
    {
      "cell_type": "code",
      "execution_count": 80,
      "metadata": {
        "id": "GJd3-oC1FTQ-"
      },
      "outputs": [],
      "source": [
        "from sklearn.preprocessing import StandardScaler\n",
        "\n",
        "# Use StandardScaler to fit and transform your X data so the variables are normalised to zero mean, unit variance\n",
        "scaler_X = StandardScaler()\n",
        "scaler_X.fit(x[0])\n",
        "scaler_y = StandardScaler()\n",
        "scaler_y.fit(y[0])\n",
        "\n",
        "X_scaled = []\n",
        "y_scaled = []\n",
        "\n",
        "for i in range(3):\n",
        "    X_scaled.append(scaler_X.transform(x[i]))\n",
        "    y_scaled.append(scaler_y.transform(y[i]))\n",
        "\n",
        "X_train = X_scaled[0]\n",
        "y_train = y_scaled[0]\n",
        "X_val = X_scaled[1]\n",
        "y_val = y_scaled[1]"
      ]
    },
    {
      "cell_type": "markdown",
      "metadata": {
        "id": "uCHOkn3kFTQ-"
      },
      "source": [
        "## Least squares"
      ]
    },
    {
      "cell_type": "markdown",
      "metadata": {
        "id": "LUVl4hnxFTQ-"
      },
      "source": [
        "Our linear regression equation is\n",
        "$$ y = \\beta_0 + \\beta_1 x_1$$\n",
        "or in the matrix formulation:\n",
        "$$\\mathbf{y} = \\beta \\mathbf{X}$$\n",
        "We have $N$ data pairs of inputs and outputs, which we will index with subscript $i$, i.e., ${\\mathbf{X}_i, \\mathbf{y}_i}$ where $i=1, \\cdots, N$. We use this linear model to make predictions for $\\mathbf{y}_i$. The residual error from our linear model is the difference between a prediction and the true data, i.e., $|\\mathbf{y}_i - \\beta \\mathbf{X_i}|$.\n",
        "We want to find $\\beta$ that minimises the residual sum of squares over the dataset, i.e.,\n",
        "$$\\arg \\min_\\beta \\{ \\sum_{i=1}^{N} (\\mathbf{y}_i - \\beta \\mathbf{X}_i)^2 \\}$$\n",
        "We will call this term inside the curly brackets our Loss function, $L$."
      ]
    },
    {
      "cell_type": "markdown",
      "metadata": {
        "id": "3fO6G1ZIFTQ-"
      },
      "source": [
        "To minimise this, take the gradient with respect to $\\beta$ and set it to zero\n",
        "$$\\frac{dL}{d\\beta}= \\sum_{i=1}^N (-2 \\mathbf{X}_i^T \\mathbf{y}_i + 2 \\beta \\mathbf{X}_i^T \\mathbf{X}_i) = 0 $$\n",
        "$$ \\hat{\\beta} = (\\mathbf{X}^T \\mathbf{X})^{-1} \\cdot \\mathbf{X}^T \\mathbf{y} $$\n",
        "This is the least squares estimate.\n"
      ]
    },
    {
      "cell_type": "markdown",
      "metadata": {
        "id": "5C_yH7PCFTQ-"
      },
      "source": [
        "Calculate $\\beta$"
      ]
    },
    {
      "cell_type": "code",
      "execution_count": 77,
      "metadata": {
        "id": "3veWjazfFTQ-"
      },
      "outputs": [],
      "source": [
        "# For the matrix formulation, add a row for the intercept\n",
        "intercept = np.ones_like(X_train)\n",
        "X_mat = np.hstack((intercept, X_train))"
      ]
    },
    {
      "cell_type": "code",
      "source": [
        "beta = np.dot(np.linalg.inv(X_mat.T @ X_mat), (X_mat.T @ y_train))\n",
        "beta"
      ],
      "metadata": {
        "colab": {
          "base_uri": "https://localhost:8080/"
        },
        "id": "zrwSS5m6T3su",
        "outputId": "135888e4-ddc9-426a-f996-3af0ae6ddc76"
      },
      "execution_count": 78,
      "outputs": [
        {
          "output_type": "execute_result",
          "data": {
            "text/plain": [
              "array([[2.23994954e-16],\n",
              "       [8.49992147e-01]])"
            ]
          },
          "metadata": {},
          "execution_count": 78
        }
      ]
    },
    {
      "cell_type": "code",
      "source": [
        "plt.figure(figsize = (5,5))\n",
        "plt.scatter(y_train, X_mat @ beta, label = 'training')\n",
        "plt.scatter(y_val, beta[0] + X_val * beta[1], label = 'validation')\n",
        "plt.plot([min(X_train), max(X_train)], [min(y_train), max(y_train)], color=\"black\", linestyle=\"dashed\")\n",
        "plt.legend()"
      ],
      "metadata": {
        "colab": {
          "base_uri": "https://localhost:8080/",
          "height": 463
        },
        "id": "grJFVd1ifatO",
        "outputId": "b8516a25-408e-4196-b71d-47c69d05dbd5"
      },
      "execution_count": 83,
      "outputs": [
        {
          "output_type": "execute_result",
          "data": {
            "text/plain": [
              "<matplotlib.legend.Legend at 0x792b53737910>"
            ]
          },
          "metadata": {},
          "execution_count": 83
        },
        {
          "output_type": "display_data",
          "data": {
            "text/plain": [
              "<Figure size 500x500 with 1 Axes>"
            ],
            "image/png": "[encoded data removed]"
          },
          "metadata": {}
        }
      ]
    },
    {
      "cell_type": "markdown",
      "metadata": {
        "id": "GJmCK0b3FTQ-"
      },
      "source": [
        "## Gradient descent\n",
        "Instead of analytically computing the gradient, we can also use the gradient descent algorithm to estimate $\\hat{\\beta}$.\n",
        "\n",
        "$$ \\beta' = \\beta - \\alpha \\nabla L $$\n",
        "$\\alpha$ is called the learning rate and is usually a small number. We can start with 0.01.\n",
        "\n",
        "1. Start with a guess for $\\hat{\\beta}$\n",
        "2. Compute $\\hat{\\mathbf{y}}=\\hat{\\beta} \\mathbf{X}$.\n",
        "The mean squared error loss is $L=\\frac{1}{N} \\sum_{i=1}^{N}{(\\hat{\\mathbf{y}}_i - \\mathbf{y}_i)^2}=\\frac{1}{N} \\sum_{i=1}^{N}{(\\hat{\\beta} \\mathbf{X}_i - \\mathbf{y}_i)^2}$\n",
        "3. Compute the direction of the gradient of the loss with respect to $\\beta$. This is\n",
        "$$ \\nabla L = \\frac{1}{N} \\sum_{i=1}^{N} 2(\\beta \\mathbf{X}^T_i \\mathbf{X}_i - \\mathbf{X}^T_i \\mathbf{y}_i) = \\frac{1}{N} 2 \\mathbf{X}^T \\cdot (\\hat{\\mathbf{y}} - \\mathbf{y})$$\n",
        "4. Update our estimate of $\\beta$ by taking the step in the direction of reducing the gradient.\n",
        "5. Repeat steps 2-4. until our estimate of $\\beta$ converges."
      ]
    },
    {
      "cell_type": "markdown",
      "metadata": {
        "id": "PFLbQap2FTQ-"
      },
      "source": [
        "Code up gradient descent and carry out 100 iterations. Then plot the coefficient, intercept and the loss for these iterations."
      ]
    },
    {
      "cell_type": "code",
      "execution_count": 48,
      "metadata": {
        "id": "e1W7QsveFTQ-"
      },
      "outputs": [],
      "source": [
        "# Choose your learning rate\n",
        "alpha = 0.05\n",
        "\n",
        "# store intercept and coefficients for plotting\n",
        "intercepts = []\n",
        "coefficients = []\n",
        "losses = []\n",
        "\n",
        "\n",
        "# initialise beta_hat randomly\n",
        "beta_hat = np.random.rand(2, 1)\n",
        "\n",
        "for t in range(100):\n",
        "    y_hat = X_mat @ beta_hat\n",
        "    N = len(y_scaled)\n",
        "    # loss\n",
        "    L = 1 / N * np.sum((y_hat - y_scaled)**2)\n",
        "\n",
        "    # compute direction of gradient\n",
        "    d_L =  2 / N * np.dot(X_mat.T, (y_hat - y_scaled))\n",
        "\n",
        "    # update\n",
        "    beta_hat = beta_hat - alpha * d_L\n",
        "\n",
        "    # store\n",
        "    intercepts.append(beta_hat[0,0])\n",
        "    coefficients.append(beta_hat[1,0])\n",
        "    losses.append(L)\n"
      ]
    },
    {
      "cell_type": "code",
      "execution_count": 49,
      "metadata": {
        "colab": {
          "base_uri": "https://localhost:8080/",
          "height": 332
        },
        "id": "9OwTwaxdFTQ-",
        "outputId": "a26da113-810c-43de-ff25-201088d88eef"
      },
      "outputs": [
        {
          "output_type": "execute_result",
          "data": {
            "text/plain": [
              "Text(0.5, 1.0, 'MSE')"
            ]
          },
          "metadata": {},
          "execution_count": 49
        },
        {
          "output_type": "display_data",
          "data": {
            "text/plain": [
              "<Figure size 1000x300 with 3 Axes>"
            ],
            "image/png": "[encoded data removed]"
          },
          "metadata": {}
        }
      ],
      "source": [
        "fig, axs = plt.subplots(1, 3, figsize=(10, 3))\n",
        "axs[0].plot(coefficients)\n",
        "axs[0].set_title(\"Coefficient\")\n",
        "\n",
        "axs[1].plot(intercepts)\n",
        "axs[1].set_title(\"Intercept\")\n",
        "\n",
        "axs[2].plot(losses)\n",
        "axs[2].set_title(\"MSE\")"
      ]
    },
    {
      "cell_type": "markdown",
      "metadata": {
        "id": "csa-58wTFTQ-"
      },
      "source": [
        "Try different values for $\\alpha$. What happens?"
      ]
    },
    {
      "cell_type": "markdown",
      "metadata": {
        "id": "dU9pR3uWFTQ-"
      },
      "source": [
        "## Stochastic gradient descent\n",
        "\n",
        "With a relatively small dataset, we can estimate the gradient over the entire dataset. But when we have larger datasets, this becomes computationally expensive. Stochatic gradient descent is a stochastic approximation of gradient descent optimization. It replaces the true gradient calculated from the entire data set with an estimate of it, calculated from a randomly selected subset of the data.\n",
        "\n",
        "Use a batch size of 32 and carry out gradient descent on one batch at a time. Iterate through the data 100 times (epochs)."
      ]
    },
    {
      "cell_type": "code",
      "execution_count": 50,
      "metadata": {
        "colab": {
          "base_uri": "https://localhost:8080/"
        },
        "id": "Qg72NrYGFTQ-",
        "outputId": "5938f12f-0bde-45bd-c675-1e39e4ea209e"
      },
      "outputs": [
        {
          "output_type": "execute_result",
          "data": {
            "text/plain": [
              "array([ 75,  83, 109,  65,  52,  11,  30,  45,  13,  53, 117,  96, 115,\n",
              "        99,   6,  14,  85,  68, 113,  22,   4, 119,  80,  86,  72,  48,\n",
              "        40,  51,  66,  47,  92,  82,  55,  77,  27,   2,   0,  16,  62,\n",
              "        37,  54,  12,  34,  43,  89,  32,  84,  38,  79,   9,  61,  93,\n",
              "       107,  58,  25,  87,  69,  26,  59,  81, 100,  95, 106,  64,  76,\n",
              "        57, 118,  10,  15,  50,  94,  71,  49,  23, 110,  44,  78, 114,\n",
              "        88,  60,  18, 108,  24,  98,   5,  36,   7, 102,  31,  46,  56,\n",
              "        67,  70, 105,  63,  90, 111, 116, 103, 104,  35,   1,  74,  28,\n",
              "        97,  39, 112, 101,  19,  21,   3,  91,  41,  42,  29,  17,  20,\n",
              "        33,  73,   8])"
            ]
          },
          "metadata": {},
          "execution_count": 50
        }
      ],
      "source": [
        "batch_size = 32\n",
        "N = X_mat.shape[0]\n",
        "data_inds = np.arange(N)\n",
        "np.random.shuffle(data_inds)\n",
        "# Check the data are shuffled\n",
        "data_inds"
      ]
    },
    {
      "cell_type": "code",
      "execution_count": 54,
      "metadata": {
        "id": "CqGDjfiQFTQ_"
      },
      "outputs": [],
      "source": [
        "# Now build your loop over 100 epochs and an inner over the batches\n",
        "\n",
        "# Choose your learning rate\n",
        "alpha = 0.05\n",
        "\n",
        "# store intercept and coefficients for plotting\n",
        "intercepts = []\n",
        "coefficients = []\n",
        "losses = []\n",
        "\n",
        "\n",
        "# initialise beta_hat randomly\n",
        "beta_hat = np.random.rand(2, 1)\n",
        "\n",
        "for i in range(100):\n",
        "    np.random.shuffle(data_inds)\n",
        "    X_shuffled = X_mat[data_inds]\n",
        "    y_shuffled = y_scaled[data_inds]\n",
        "\n",
        "    for b in range(N//batch_size):\n",
        "        X_batch = X_shuffled[b*batch_size:(b+1)*batch_size]\n",
        "        y_batch = y_shuffled[b*batch_size:(b+1)*batch_size]\n",
        "\n",
        "        y_hat = X_batch @ beta_hat\n",
        "\n",
        "        # compute direction of gradient\n",
        "        d_L =  2*np.dot(X_batch.T, y_hat - y_batch)/N\n",
        "\n",
        "        # update\n",
        "        beta_hat = beta_hat - alpha * d_L\n",
        "\n",
        "        # store\n",
        "        intercepts.append(beta_hat[0,0])\n",
        "        coefficients.append(beta_hat[1,0])\n",
        "        losses.append(np.sum((y_hat - y_batch)**2))\n"
      ]
    },
    {
      "cell_type": "code",
      "execution_count": 55,
      "metadata": {
        "colab": {
          "base_uri": "https://localhost:8080/",
          "height": 332
        },
        "id": "7qDaV1CvFTQ_",
        "outputId": "c7726ca7-8b9c-40ae-bb6c-bc6d87d58a22"
      },
      "outputs": [
        {
          "output_type": "execute_result",
          "data": {
            "text/plain": [
              "Text(0.5, 1.0, 'MSE')"
            ]
          },
          "metadata": {},
          "execution_count": 55
        },
        {
          "output_type": "display_data",
          "data": {
            "text/plain": [
              "<Figure size 1000x300 with 3 Axes>"
            ],
            "image/png": "[encoded data removed]"
          },
          "metadata": {}
        }
      ],
      "source": [
        "fig, axs = plt.subplots(1, 3, figsize=(10, 3))\n",
        "axs[0].plot(coefficients)\n",
        "axs[0].set_title(\"Coefficient\")\n",
        "\n",
        "axs[1].plot(intercepts)\n",
        "axs[1].set_title(\"Intercept\")\n",
        "\n",
        "axs[2].plot(losses)\n",
        "axs[2].set_title(\"MSE\")"
      ]
    },
    {
      "cell_type": "code",
      "execution_count": null,
      "metadata": {
        "id": "_6uGdpkiFTQ_"
      },
      "outputs": [],
      "source": []
    },
    {
      "cell_type": "markdown",
      "metadata": {
        "id": "4BkfkthNFTQ_"
      },
      "source": [
        "## Scikit-learn solution\n",
        "Compare your results to the sklearn solution `sklearn.linear_model.LinearRegression()`. See https://scikit-learn.org/1.5/modules/generated/sklearn.linear_model.LinearRegression.html."
      ]
    },
    {
      "cell_type": "code",
      "execution_count": 56,
      "metadata": {
        "colab": {
          "base_uri": "https://localhost:8080/"
        },
        "id": "4MzeHFZKFTQ_",
        "outputId": "246fd8d2-61ec-4105-9e01-eabb32fce356"
      },
      "outputs": [
        {
          "output_type": "stream",
          "name": "stdout",
          "text": [
            "sklearn estimate: intercept 2.1594e-16, coefficient 8.4999e-01\n"
          ]
        }
      ],
      "source": [
        "from sklearn import linear_model\n",
        "\n",
        "# Create your linear regression model and print the coefficients and intercept.\n",
        "reg = linear_model.LinearRegression()\n",
        "reg.fit(X_scaled, y_scaled)\n",
        "\n",
        "# print coefficients of model\n",
        "coefficient_SK = reg.coef_[0,0]\n",
        "intercept_SK = reg.intercept_[0]\n",
        "print(f\"sklearn estimate: intercept {intercept_SK:.4e}, coefficient {coefficient_SK:.4e}\")"
      ]
    },
    {
      "cell_type": "markdown",
      "metadata": {
        "id": "mvwNX89-FTQ_"
      },
      "source": [
        "Do you get the same results?"
      ]
    },
    {
      "cell_type": "code",
      "execution_count": null,
      "metadata": {
        "id": "AtQZwLFKFTQ_"
      },
      "outputs": [],
      "source": []
    },
    {
      "cell_type": "code",
      "execution_count": null,
      "metadata": {
        "id": "HiigoziuFTQ_"
      },
      "outputs": [],
      "source": []
    },
    {
      "cell_type": "markdown",
      "metadata": {
        "id": "RUpALiJHFTQ_"
      },
      "source": [
        "## Pytorch solution\n",
        "Can you also use a pytorch implementation of linear regression? Explore different learning rates and see how quickly your parameters converge\n",
        "          \n"
      ]
    },
    {
      "cell_type": "code",
      "execution_count": 57,
      "metadata": {
        "id": "QdqhZ23UFTQ_"
      },
      "outputs": [],
      "source": [
        "import torch\n",
        "\n",
        "# Create a linear layer (1D-> 1D) using torch.nn.Linear(...)\n",
        "linear_layer = torch.nn.Linear(in_features=1, out_features=1)\n",
        "# For optimiser, look at the docs for torch.optim.SGD()\n",
        "optimiser = torch.optim.SGD(params = linear_layer.parameters(), lr=0.1)\n",
        "# For the loss function, look at the docs for torch.nn.MSE()\n",
        "loss_function = torch.nn.MSELoss()"
      ]
    },
    {
      "cell_type": "markdown",
      "metadata": {
        "id": "ZypWjsKFFTRD"
      },
      "source": [
        "Check the parameters of your neural network. There should be two: one for the coefficient/weight and one for the intercept/bias."
      ]
    },
    {
      "cell_type": "code",
      "execution_count": 59,
      "metadata": {
        "colab": {
          "base_uri": "https://localhost:8080/"
        },
        "id": "8XQKcEeoFTRD",
        "outputId": "64c71ff9-35f9-482f-af0a-ec77549288de"
      },
      "outputs": [
        {
          "output_type": "stream",
          "name": "stdout",
          "text": [
            "Parameter containing:\n",
            "tensor([[-0.5151]], requires_grad=True)\n",
            "Parameter containing:\n",
            "tensor([0.6281], requires_grad=True)\n"
          ]
        }
      ],
      "source": [
        "for p in linear_layer.parameters():\n",
        "    print(p)"
      ]
    },
    {
      "cell_type": "code",
      "execution_count": 58,
      "metadata": {
        "id": "bz44hR3gFTRD"
      },
      "outputs": [],
      "source": [
        "# Convert your np arrays into torch tensors using torch.tensor(...)\n",
        "X_torch = torch.tensor(X_scaled, dtype=torch.float32)\n",
        "y_torch = torch.tensor(y_scaled, dtype=torch.float32)"
      ]
    },
    {
      "cell_type": "code",
      "execution_count": 60,
      "metadata": {
        "id": "eY_HI3UwFTRD"
      },
      "outputs": [],
      "source": [
        "# Store parameters for plotting\n",
        "coefficients = []\n",
        "intercepts = []\n",
        "losses = []\n",
        "\n",
        "for iteration in range(100):\n",
        "    optimiser.zero_grad()\n",
        "    pred = linear_layer(X_torch)\n",
        "    loss = loss_function(pred, y_torch)\n",
        "    loss.backward()\n",
        "\n",
        "    for p, param in enumerate(linear_layer.parameters()):\n",
        "        if p==0:\n",
        "            coefficients.append(param.item())\n",
        "        elif p==1:\n",
        "            intercepts.append(param.item())\n",
        "    losses.append(loss.item())\n",
        "\n",
        "    # Update optimiser\n",
        "    optimiser.step()\n"
      ]
    },
    {
      "cell_type": "markdown",
      "metadata": {
        "id": "1IaXPGBQFTRD"
      },
      "source": [
        "Check your parameters after training - they should have converged to the same values as the least squares estimates."
      ]
    },
    {
      "cell_type": "code",
      "execution_count": 61,
      "metadata": {
        "colab": {
          "base_uri": "https://localhost:8080/"
        },
        "id": "WK1Jz3vgFTRD",
        "outputId": "a49744a5-5e7e-4535-a728-70ab0ba41bb9"
      },
      "outputs": [
        {
          "output_type": "stream",
          "name": "stdout",
          "text": [
            "Parameter containing:\n",
            "tensor([[0.8500]], requires_grad=True)\n",
            "Parameter containing:\n",
            "tensor([1.0660e-08], requires_grad=True)\n"
          ]
        }
      ],
      "source": [
        "for p in linear_layer.parameters():\n",
        "    print(p)"
      ]
    },
    {
      "cell_type": "code",
      "execution_count": 62,
      "metadata": {
        "colab": {
          "base_uri": "https://localhost:8080/",
          "height": 332
        },
        "id": "uA_38EzrFTRD",
        "outputId": "a4cd921e-880b-41e3-8e42-5a6748481635"
      },
      "outputs": [
        {
          "output_type": "execute_result",
          "data": {
            "text/plain": [
              "Text(0.5, 1.0, 'MSE')"
            ]
          },
          "metadata": {},
          "execution_count": 62
        },
        {
          "output_type": "display_data",
          "data": {
            "text/plain": [
              "<Figure size 1000x300 with 3 Axes>"
            ],
            "image/png": "[encoded data removed]"
          },
          "metadata": {}
        }
      ],
      "source": [
        "fig, axs = plt.subplots(1, 3, figsize=(10, 3))\n",
        "axs[0].plot(coefficients)\n",
        "axs[0].set_title(\"Coefficient\")\n",
        "\n",
        "axs[1].plot(intercepts)\n",
        "axs[1].set_title(\"Intercept\")\n",
        "\n",
        "axs[2].plot(losses)\n",
        "axs[2].set_title(\"MSE\")"
      ]
    },
    {
      "cell_type": "code",
      "execution_count": null,
      "metadata": {
        "id": "zNk_xQw2FTRD"
      },
      "outputs": [],
      "source": []
    },
    {
      "cell_type": "code",
      "execution_count": null,
      "metadata": {
        "id": "jaNXgRhyFTRD"
      },
      "outputs": [],
      "source": []
    },
    {
      "cell_type": "code",
      "execution_count": null,
      "metadata": {
        "id": "yn64l5h9FTRD"
      },
      "outputs": [],
      "source": []
    },
    {
      "cell_type": "code",
      "execution_count": null,
      "metadata": {
        "id": "J0SuBGj5FTRD"
      },
      "outputs": [],
      "source": []
    },
    {
      "cell_type": "code",
      "execution_count": null,
      "metadata": {
        "id": "RipXfiZxFTRD"
      },
      "outputs": [],
      "source": []
    }
  ],
  "metadata": {
    "kernelspec": {
      "display_name": "Python 3 (ipykernel)",
      "language": "python",
      "name": "python3"
    },
    "language_info": {
      "codemirror_mode": {
        "name": "ipython",
        "version": 3
      },
      "file_extension": ".py",
      "mimetype": "text/x-python",
      "name": "python",
      "nbconvert_exporter": "python",
      "pygments_lexer": "ipython3",
      "version": "3.11.5"
    },
    "colab": {
      "provenance": []
    }
  },
  "nbformat": 4,
  "nbformat_minor": 0
}